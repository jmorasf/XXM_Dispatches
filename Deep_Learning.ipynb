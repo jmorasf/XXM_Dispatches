{
 "cells": [
  {
   "cell_type": "code",
   "execution_count": 123,
   "metadata": {},
   "outputs": [],
   "source": [
    "# Set the seed value for the notebook so the results are reproducible\n",
    "from numpy.random import seed\n",
    "seed(1)"
   ]
  },
  {
   "cell_type": "code",
   "execution_count": 124,
   "metadata": {},
   "outputs": [],
   "source": [
    "%matplotlib inline\n",
    "import matplotlib.pyplot as plt\n",
    "import numpy as np\n",
    "import pandas as pd\n",
    "import sklearn\n",
    "import sklearn.datasets"
   ]
  },
  {
   "cell_type": "code",
   "execution_count": 125,
   "metadata": {
    "nbgrader": {
     "grade": false,
     "grade_id": "cell-25fb99ba413a3271",
     "locked": false,
     "schema_version": 1,
     "solution": true
    }
   },
   "outputs": [
    {
     "name": "stdout",
     "output_type": "stream",
     "text": [
      "(83661, 5) (83661,)\n"
     ]
    }
   ],
   "source": [
    "# Use train_test_split to create training and testing data\n",
    "\n",
    "data = pd.read_csv('../Resources/XXM_Dispatches.csv')\n",
    "data.head()\n",
    "\n",
    "X = data[[\"Month\", \"DAY_OF_WEEK\", \"HOUR\",\"DIFF\", \"MAX_TEMPERATURE\"]]\n",
    "\n",
    "#y = data[\"DISPATCH_ONE\"].values.reshape(-1, 1)\n",
    "y = data[\"DISPATCH_ONE\"]\n",
    "print(X.shape, y.shape)\n",
    "from sklearn.model_selection import train_test_split\n",
    "\n",
    "X_train, X_test, y_train, y_test = train_test_split(X, y, random_state=1)"
   ]
  },
  {
   "cell_type": "code",
   "execution_count": 126,
   "metadata": {
    "nbgrader": {
     "grade": false,
     "grade_id": "cell-7e1de5d9b7942f68",
     "locked": false,
     "schema_version": 1,
     "solution": true
    }
   },
   "outputs": [],
   "source": [
    "from sklearn.preprocessing import StandardScaler\n",
    "\n",
    "# Create a StandardScater model and fit it to the training data\n",
    "X_scaler = StandardScaler().fit(X_train)"
   ]
  },
  {
   "cell_type": "code",
   "execution_count": 127,
   "metadata": {
    "nbgrader": {
     "grade": false,
     "grade_id": "cell-9532e12246e485d5",
     "locked": false,
     "schema_version": 1,
     "solution": true
    }
   },
   "outputs": [],
   "source": [
    "# Transform the training and testing data using the X_scaler\n",
    "\n",
    "X_train_scaled = X_scaler.transform(X_train)\n",
    "X_test_scaled = X_scaler.transform(X_test)"
   ]
  },
  {
   "cell_type": "code",
   "execution_count": 128,
   "metadata": {},
   "outputs": [],
   "source": [
    "from tensorflow.keras.utils import to_categorical"
   ]
  },
  {
   "cell_type": "code",
   "execution_count": 129,
   "metadata": {},
   "outputs": [],
   "source": [
    "# One-hot encoding\n",
    "y_train_categorical = to_categorical(y_train)\n",
    "y_test_categorical = to_categorical(y_test)"
   ]
  },
  {
   "cell_type": "code",
   "execution_count": 130,
   "metadata": {
    "nbgrader": {
     "grade": false,
     "grade_id": "cell-ec399a95e133cb58",
     "locked": false,
     "schema_version": 1,
     "solution": true
    }
   },
   "outputs": [],
   "source": [
    "# first, create a normal neural network with 2 inputs, 6 hidden nodes, and 2 outputs\n",
    "from tensorflow.keras.models import Sequential\n",
    "from tensorflow.keras.layers import Dense\n",
    "\n",
    "model = Sequential()\n",
    "model.add(Dense(units=6, activation='relu', input_dim=5))\n",
    "model.add(Dense(units=2, activation='softmax'))"
   ]
  },
  {
   "cell_type": "code",
   "execution_count": 131,
   "metadata": {},
   "outputs": [
    {
     "name": "stdout",
     "output_type": "stream",
     "text": [
      "Model: \"sequential_10\"\n",
      "_________________________________________________________________\n",
      "Layer (type)                 Output Shape              Param #   \n",
      "=================================================================\n",
      "dense_24 (Dense)             (None, 6)                 36        \n",
      "_________________________________________________________________\n",
      "dense_25 (Dense)             (None, 2)                 14        \n",
      "=================================================================\n",
      "Total params: 50\n",
      "Trainable params: 50\n",
      "Non-trainable params: 0\n",
      "_________________________________________________________________\n"
     ]
    }
   ],
   "source": [
    "model.summary()"
   ]
  },
  {
   "cell_type": "code",
   "execution_count": 132,
   "metadata": {},
   "outputs": [],
   "source": [
    "# Compile the model\n",
    "model.compile(optimizer='adam',\n",
    "              loss='categorical_crossentropy',\n",
    "              metrics=['accuracy'])"
   ]
  },
  {
   "cell_type": "code",
   "execution_count": 133,
   "metadata": {
    "nbgrader": {
     "grade": false,
     "grade_id": "cell-5cf2fbdbea0ed50b",
     "locked": false,
     "schema_version": 1,
     "solution": true
    }
   },
   "outputs": [
    {
     "name": "stdout",
     "output_type": "stream",
     "text": [
      "Train on 62745 samples\n",
      "Epoch 1/10\n",
      "62745/62745 - 4s - loss: 0.1373 - accuracy: 0.9746\n",
      "Epoch 2/10\n",
      "62745/62745 - 3s - loss: 0.1084 - accuracy: 0.9756\n",
      "Epoch 3/10\n",
      "62745/62745 - 2s - loss: 0.1054 - accuracy: 0.9756\n",
      "Epoch 4/10\n",
      "62745/62745 - 3s - loss: 0.1041 - accuracy: 0.9756\n",
      "Epoch 5/10\n",
      "62745/62745 - 3s - loss: 0.1035 - accuracy: 0.9756\n",
      "Epoch 6/10\n",
      "62745/62745 - 3s - loss: 0.1031 - accuracy: 0.9756\n",
      "Epoch 7/10\n",
      "62745/62745 - 2s - loss: 0.1029 - accuracy: 0.9756\n",
      "Epoch 8/10\n",
      "62745/62745 - 2s - loss: 0.1030 - accuracy: 0.9756\n",
      "Epoch 9/10\n",
      "62745/62745 - 2s - loss: 0.1027 - accuracy: 0.9756\n",
      "Epoch 10/10\n",
      "62745/62745 - 2s - loss: 0.1027 - accuracy: 0.9756\n"
     ]
    },
    {
     "data": {
      "text/plain": [
       "<tensorflow.python.keras.callbacks.History at 0x2546aea39e8>"
      ]
     },
     "execution_count": 133,
     "metadata": {},
     "output_type": "execute_result"
    }
   ],
   "source": [
    "# Fit the model to the training data\n",
    "model.fit(\n",
    "    X_train_scaled,\n",
    "    y_train_categorical,\n",
    "    epochs=10,\n",
    "    shuffle=True,\n",
    "    verbose=2\n",
    ")"
   ]
  },
  {
   "cell_type": "markdown",
   "metadata": {},
   "source": [
    "# Deep Learning\n",
    "For this network, we simply add an additional hidden layer of 6 nodes"
   ]
  },
  {
   "cell_type": "code",
   "execution_count": 134,
   "metadata": {},
   "outputs": [],
   "source": [
    "deep_model = Sequential()\n",
    "deep_model.add(Dense(units=6, activation='relu', input_dim=5))\n",
    "deep_model.add(Dense(units=6, activation='relu'))\n",
    "deep_model.add(Dense(units=2, activation='softmax'))"
   ]
  },
  {
   "cell_type": "code",
   "execution_count": 135,
   "metadata": {
    "scrolled": true
   },
   "outputs": [
    {
     "name": "stdout",
     "output_type": "stream",
     "text": [
      "Model: \"sequential_11\"\n",
      "_________________________________________________________________\n",
      "Layer (type)                 Output Shape              Param #   \n",
      "=================================================================\n",
      "dense_26 (Dense)             (None, 6)                 36        \n",
      "_________________________________________________________________\n",
      "dense_27 (Dense)             (None, 6)                 42        \n",
      "_________________________________________________________________\n",
      "dense_28 (Dense)             (None, 2)                 14        \n",
      "=================================================================\n",
      "Total params: 92\n",
      "Trainable params: 92\n",
      "Non-trainable params: 0\n",
      "_________________________________________________________________\n"
     ]
    }
   ],
   "source": [
    "deep_model.summary()"
   ]
  },
  {
   "cell_type": "code",
   "execution_count": 136,
   "metadata": {},
   "outputs": [
    {
     "name": "stdout",
     "output_type": "stream",
     "text": [
      "Train on 62745 samples\n",
      "Epoch 1/10\n",
      "62745/62745 - 2s - loss: 0.1794 - accuracy: 0.9553\n",
      "Epoch 2/10\n",
      "62745/62745 - 2s - loss: 0.1055 - accuracy: 0.9756\n",
      "Epoch 3/10\n",
      "62745/62745 - 2s - loss: 0.1037 - accuracy: 0.9756\n",
      "Epoch 4/10\n",
      "62745/62745 - 2s - loss: 0.1032 - accuracy: 0.9756\n",
      "Epoch 5/10\n",
      "62745/62745 - 3s - loss: 0.1029 - accuracy: 0.9756\n",
      "Epoch 6/10\n",
      "62745/62745 - 2s - loss: 0.1025 - accuracy: 0.9756\n",
      "Epoch 7/10\n",
      "62745/62745 - 2s - loss: 0.1025 - accuracy: 0.9756\n",
      "Epoch 8/10\n",
      "62745/62745 - 2s - loss: 0.1022 - accuracy: 0.9756\n",
      "Epoch 9/10\n",
      "62745/62745 - 2s - loss: 0.1021 - accuracy: 0.9756\n",
      "Epoch 10/10\n",
      "62745/62745 - 2s - loss: 0.1020 - accuracy: 0.9756\n"
     ]
    },
    {
     "data": {
      "text/plain": [
       "<tensorflow.python.keras.callbacks.History at 0x2546bc68208>"
      ]
     },
     "execution_count": 136,
     "metadata": {},
     "output_type": "execute_result"
    }
   ],
   "source": [
    "deep_model.compile(optimizer='adam',\n",
    "                   loss='categorical_crossentropy',\n",
    "                   metrics=['accuracy'])\n",
    "\n",
    "deep_model.fit(\n",
    "    X_train_scaled,\n",
    "    y_train_categorical,\n",
    "    epochs=10,\n",
    "    shuffle=True,\n",
    "    verbose=2\n",
    ")"
   ]
  },
  {
   "cell_type": "markdown",
   "metadata": {},
   "source": [
    "# Compare the models below"
   ]
  },
  {
   "cell_type": "code",
   "execution_count": 137,
   "metadata": {},
   "outputs": [
    {
     "name": "stdout",
     "output_type": "stream",
     "text": [
      "20916/1 - 0s - loss: 0.0706 - accuracy: 0.9748\n",
      "Normal Neural Network - Loss: 0.10534739851962999, Accuracy: 0.9748039841651917\n"
     ]
    }
   ],
   "source": [
    "model_loss, model_accuracy = model.evaluate(\n",
    "    X_test_scaled, y_test_categorical, verbose=2)\n",
    "print(\n",
    "    f\"Normal Neural Network - Loss: {model_loss}, Accuracy: {model_accuracy}\")"
   ]
  },
  {
   "cell_type": "code",
   "execution_count": 138,
   "metadata": {},
   "outputs": [
    {
     "name": "stdout",
     "output_type": "stream",
     "text": [
      "20916/1 - 1s - loss: 0.0690 - accuracy: 0.9748\n",
      "Deep Neural Network - Loss: 0.10306125055791247, Accuracy: 0.9748039841651917\n"
     ]
    }
   ],
   "source": [
    "model_loss, model_accuracy = deep_model.evaluate(\n",
    "    X_test_scaled, y_test_categorical, verbose=2)\n",
    "print(f\"Deep Neural Network - Loss: {model_loss}, Accuracy: {model_accuracy}\")"
   ]
  },
  {
   "cell_type": "code",
   "execution_count": 148,
   "metadata": {},
   "outputs": [
    {
     "name": "stdout",
     "output_type": "stream",
     "text": [
      "[ 0.50240506  1.4997094   0.3250204  -1.47201362  0.99515834]\n",
      "[-0.98026787 -0.50306314 -1.11856632  1.68322594 -0.30156689]\n",
      "[ 1.   5.   5.5  5.1 59. ]\n",
      "Done\n"
     ]
    }
   ],
   "source": [
    "# print(X_test_scaled[2,:])\n",
    "# print(X.shape)\n",
    "print(X_test_scaled[10, :])\n",
    "print(X_train_scaled[10, :])\n",
    "print(X.to_numpy()[10, :])\n",
    "for i in range(1000):\n",
    "#      res = deep_model.predict_classes(np.asarray([X.to_numpy()[i, :]]))\n",
    "     res = deep_model.predict_classes(np.asarray([X_train_scaled[i, :]]))\n",
    "#      print(res)\n",
    "     if (res[0] == 1):\n",
    "        print(f\"Found! {i}\")\n",
    "print(\"Done\")"
   ]
  },
  {
   "cell_type": "code",
   "execution_count": 151,
   "metadata": {},
   "outputs": [
    {
     "name": "stdout",
     "output_type": "stream",
     "text": [
      "              precision    recall  f1-score   support\n",
      "\n",
      "           0       0.97      1.00      0.99     20389\n",
      "           1       0.00      0.00      0.00       527\n",
      "\n",
      "    accuracy                           0.97     20916\n",
      "   macro avg       0.49      0.50      0.49     20916\n",
      "weighted avg       0.95      0.97      0.96     20916\n",
      "\n"
     ]
    },
    {
     "name": "stderr",
     "output_type": "stream",
     "text": [
      "C:\\ProgramData\\Anaconda3\\lib\\site-packages\\sklearn\\metrics\\classification.py:1437: UndefinedMetricWarning: Precision and F-score are ill-defined and being set to 0.0 in labels with no predicted samples.\n",
      "  'precision', 'predicted', average, warn_for)\n"
     ]
    }
   ],
   "source": [
    "# Calculate classification report\n",
    "from sklearn.metrics import classification_report\n",
    "predictions = deep_model.predict_classes(X_test_scaled)\n",
    "print(classification_report(y_test, predictions))"
   ]
  },
  {
   "cell_type": "code",
   "execution_count": 140,
   "metadata": {},
   "outputs": [],
   "source": [
    "# for i in range(330, 390):\n",
    "#     X = data.loc[[i], [\"Month\", \"DAY_OF_WEEK\", \"HOUR\",\"DIFF\", \"MAX_TEMPERATURE\"]]\n",
    "#     print(i, model.predict(X.to_numpy(), batch_size=None, verbose=1, steps=None, max_queue_size=10, workers=1, use_multiprocessing=False))"
   ]
  },
  {
   "cell_type": "code",
   "execution_count": 141,
   "metadata": {},
   "outputs": [],
   "source": [
    "\n",
    "# # make class predictions with the model\n",
    "# predictions = model.predict_classes(X)\n",
    "# # summarize the first 5 cases\n",
    "# for i in range(5):\n",
    "# \tprint('%s => %d (expected %d)' % (X[i].tolist(), predictions[i], y[i]))"
   ]
  },
  {
   "cell_type": "markdown",
   "metadata": {},
   "source": [
    "# In a nutshell..."
   ]
  },
  {
   "cell_type": "markdown",
   "metadata": {},
   "source": [
    "![stack more layers](../Images/stack-more-layers.jpg)"
   ]
  }
 ],
 "metadata": {
  "anaconda-cloud": {},
  "kernelspec": {
   "display_name": "Python 3",
   "language": "python",
   "name": "python3"
  },
  "language_info": {
   "codemirror_mode": {
    "name": "ipython",
    "version": 3
   },
   "file_extension": ".py",
   "mimetype": "text/x-python",
   "name": "python",
   "nbconvert_exporter": "python",
   "pygments_lexer": "ipython3",
   "version": "3.7.1"
  },
  "varInspector": {
   "cols": {
    "lenName": 16,
    "lenType": 16,
    "lenVar": 40
   },
   "kernels_config": {
    "python": {
     "delete_cmd_postfix": "",
     "delete_cmd_prefix": "del ",
     "library": "var_list.py",
     "varRefreshCmd": "print(var_dic_list())"
    },
    "r": {
     "delete_cmd_postfix": ") ",
     "delete_cmd_prefix": "rm(",
     "library": "var_list.r",
     "varRefreshCmd": "cat(var_dic_list()) "
    }
   },
   "types_to_exclude": [
    "module",
    "function",
    "builtin_function_or_method",
    "instance",
    "_Feature"
   ],
   "window_display": false
  }
 },
 "nbformat": 4,
 "nbformat_minor": 2
}
